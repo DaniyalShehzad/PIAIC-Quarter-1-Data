{
 "cells": [
  {
   "cell_type": "code",
   "execution_count": 19,
   "metadata": {},
   "outputs": [],
   "source": [
    "#in a class you first make the object then define the procedure\n",
    "\n",
    "class Animal:                  # object's class (for data storage, it's structure and behaviour) (stored as a capsule)\n",
    "    \n",
    "    def __init__(self):             #this is constructor\n",
    "        self.name = 'no name'       # it's attributes\n",
    "        self.legs = 4\n",
    "    \n",
    "    def sound(self):                    #stating the behaviour\n",
    "        print('sound')\n",
    "    \n",
    "    def print_details(self):            #this is also behaviour\n",
    "        print('name:', self.name)\n",
    "        print('numbe of legs:', self.legs)\n",
    "    "
   ]
  },
  {
   "cell_type": "code",
   "execution_count": 20,
   "metadata": {},
   "outputs": [
    {
     "name": "stdout",
     "output_type": "stream",
     "text": [
      "name: no name\n",
      "numbe of legs: 4\n"
     ]
    }
   ],
   "source": [
    "animal = Animal()               #object is formed here\n",
    "animal2 = Animal()              #self is an implicit function, and called by python itself\n",
    "animal.print_details()"
   ]
  },
  {
   "cell_type": "code",
   "execution_count": 24,
   "metadata": {},
   "outputs": [
    {
     "name": "stdout",
     "output_type": "stream",
     "text": [
      "name: CAT\n",
      "numbe of legs: 4\n"
     ]
    }
   ],
   "source": [
    "animal.name = 'CAT'                 #this name goes into the animal name variable\n",
    "animal.print_details()"
   ]
  },
  {
   "cell_type": "code",
   "execution_count": 25,
   "metadata": {},
   "outputs": [
    {
     "name": "stdout",
     "output_type": "stream",
     "text": [
      "name: DOG\n",
      "numbe of legs: 4\n"
     ]
    }
   ],
   "source": [
    "animal2.name = 'DOG'\n",
    "animal2.print_details()"
   ]
  },
  {
   "cell_type": "code",
   "execution_count": 26,
   "metadata": {},
   "outputs": [
    {
     "name": "stdout",
     "output_type": "stream",
     "text": [
      "name: no name\n",
      "numbe of legs: 4\n"
     ]
    }
   ],
   "source": [
    "animal = Animal()\n",
    "animal.print_details()"
   ]
  },
  {
   "cell_type": "code",
   "execution_count": 55,
   "metadata": {},
   "outputs": [],
   "source": [
    "class Animal2:                  # object's class (for data storage, it's structure and behaviour) (stored as a capsule)\n",
    "    \n",
    "    def __init__(self ,a ,b):\n",
    "        self.name = a       # it's attributes\n",
    "        self.legs = b\n",
    "    \n",
    "    def sound(self, voice):                    #stating the behaviour\n",
    "        print(voice)\n",
    "    \n",
    "    def print_details(self):            #this is also behaviour\n",
    "        print('name:', self.name)\n",
    "        print('numbe of legs:', self.legs)"
   ]
  },
  {
   "cell_type": "code",
   "execution_count": 56,
   "metadata": {},
   "outputs": [
    {
     "name": "stdout",
     "output_type": "stream",
     "text": [
      "name: hen\n",
      "numbe of legs: 2\n"
     ]
    }
   ],
   "source": [
    "animal3 = Animal2(\"hen\", 2)\n",
    "animal3.print_details()"
   ]
  },
  {
   "cell_type": "code",
   "execution_count": 57,
   "metadata": {},
   "outputs": [
    {
     "name": "stdout",
     "output_type": "stream",
     "text": [
      "Meow\n"
     ]
    }
   ],
   "source": [
    "animal3.sound ('Meow')"
   ]
  },
  {
   "cell_type": "markdown",
   "metadata": {},
   "source": [
    "# colors class(practice)"
   ]
  },
  {
   "cell_type": "code",
   "execution_count": 76,
   "metadata": {},
   "outputs": [],
   "source": [
    "class shape:                  # object's class (for data storage, it's structure and behaviour) (stored as a capsule)\n",
    "    \n",
    "    def __init__(self ,a ,b, c):\n",
    "        self.name = a       # it's attributes\n",
    "        self.color = b\n",
    "        self.sides = c\n",
    "    \n",
    "    def draw(self):            #this is also behaviour\n",
    "        print('name:', self.name)\n",
    "        print('color:', self.color)\n",
    "        print('sides:', self.sides)\n",
    "              "
   ]
  },
  {
   "cell_type": "code",
   "execution_count": 77,
   "metadata": {},
   "outputs": [
    {
     "name": "stdout",
     "output_type": "stream",
     "text": [
      "name: square\n",
      "color: blue\n",
      "sides: 4\n"
     ]
    }
   ],
   "source": [
    "square = shape(\"square\", \"blue\", 4)\n",
    "square.draw()"
   ]
  },
  {
   "cell_type": "code",
   "execution_count": 78,
   "metadata": {},
   "outputs": [
    {
     "name": "stdout",
     "output_type": "stream",
     "text": [
      "name: triangle\n",
      "color: grey\n",
      "sides: 3\n"
     ]
    }
   ],
   "source": [
    "triangle = shape(\"triangle\", \"grey\", 3)\n",
    "triangle.draw()"
   ]
  },
  {
   "cell_type": "code",
   "execution_count": null,
   "metadata": {},
   "outputs": [],
   "source": []
  },
  {
   "cell_type": "code",
   "execution_count": null,
   "metadata": {},
   "outputs": [],
   "source": []
  },
  {
   "cell_type": "code",
   "execution_count": null,
   "metadata": {},
   "outputs": [],
   "source": []
  }
 ],
 "metadata": {
  "kernelspec": {
   "display_name": "Python 3",
   "language": "python",
   "name": "python3"
  },
  "language_info": {
   "codemirror_mode": {
    "name": "ipython",
    "version": 3
   },
   "file_extension": ".py",
   "mimetype": "text/x-python",
   "name": "python",
   "nbconvert_exporter": "python",
   "pygments_lexer": "ipython3",
   "version": "3.7.3"
  }
 },
 "nbformat": 4,
 "nbformat_minor": 2
}
